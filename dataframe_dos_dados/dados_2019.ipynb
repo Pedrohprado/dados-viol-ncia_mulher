{
 "cells": [
  {
   "cell_type": "code",
   "execution_count": 3,
   "metadata": {},
   "outputs": [],
   "source": [
    "# Importando o pandas\n",
    "import pandas as pd\n",
    "# Importando matplotlib\n",
    "import matplotlib.pyplot as plt "
   ]
  },
  {
   "cell_type": "code",
   "execution_count": 4,
   "metadata": {},
   "outputs": [
    {
     "data": {
      "text/html": [
       "<div>\n",
       "<style scoped>\n",
       "    .dataframe tbody tr th:only-of-type {\n",
       "        vertical-align: middle;\n",
       "    }\n",
       "\n",
       "    .dataframe tbody tr th {\n",
       "        vertical-align: top;\n",
       "    }\n",
       "\n",
       "    .dataframe thead th {\n",
       "        text-align: right;\n",
       "    }\n",
       "</style>\n",
       "<table border=\"1\" class=\"dataframe\">\n",
       "  <thead>\n",
       "    <tr style=\"text-align: right;\">\n",
       "      <th></th>\n",
       "      <th>MÊS</th>\n",
       "      <th>AMEAÇA</th>\n",
       "      <th>LESÃO CORPORAL</th>\n",
       "      <th>ESTUPRO (*)</th>\n",
       "      <th>FEMINICÍDIO CONSUMADO</th>\n",
       "      <th>FEMINICÍDIO TENTADO</th>\n",
       "    </tr>\n",
       "  </thead>\n",
       "  <tbody>\n",
       "    <tr>\n",
       "      <th>0</th>\n",
       "      <td>jan/19</td>\n",
       "      <td>3.765</td>\n",
       "      <td>2.116</td>\n",
       "      <td>184.0</td>\n",
       "      <td>3</td>\n",
       "      <td>44</td>\n",
       "    </tr>\n",
       "    <tr>\n",
       "      <th>1</th>\n",
       "      <td>fev/19</td>\n",
       "      <td>3.214</td>\n",
       "      <td>1.820</td>\n",
       "      <td>132.0</td>\n",
       "      <td>1</td>\n",
       "      <td>23</td>\n",
       "    </tr>\n",
       "    <tr>\n",
       "      <th>2</th>\n",
       "      <td>mar/19</td>\n",
       "      <td>3.457</td>\n",
       "      <td>1.949</td>\n",
       "      <td>126.0</td>\n",
       "      <td>11</td>\n",
       "      <td>25</td>\n",
       "    </tr>\n",
       "    <tr>\n",
       "      <th>3</th>\n",
       "      <td>abr/19</td>\n",
       "      <td>3.085</td>\n",
       "      <td>1.719</td>\n",
       "      <td>107.0</td>\n",
       "      <td>6</td>\n",
       "      <td>37</td>\n",
       "    </tr>\n",
       "    <tr>\n",
       "      <th>4</th>\n",
       "      <td>mai/19</td>\n",
       "      <td>2.893</td>\n",
       "      <td>1.499</td>\n",
       "      <td>104.0</td>\n",
       "      <td>11</td>\n",
       "      <td>31</td>\n",
       "    </tr>\n",
       "  </tbody>\n",
       "</table>\n",
       "</div>"
      ],
      "text/plain": [
       "      MÊS  AMEAÇA  LESÃO CORPORAL  ESTUPRO (*)  FEMINICÍDIO CONSUMADO  \\\n",
       "0  jan/19   3.765           2.116        184.0                      3   \n",
       "1  fev/19   3.214           1.820        132.0                      1   \n",
       "2  mar/19   3.457           1.949        126.0                     11   \n",
       "3  abr/19   3.085           1.719        107.0                      6   \n",
       "4  mai/19   2.893           1.499        104.0                     11   \n",
       "\n",
       "   FEMINICÍDIO TENTADO  \n",
       "0                   44  \n",
       "1                   23  \n",
       "2                   25  \n",
       "3                   37  \n",
       "4                   31  "
      ]
     },
     "execution_count": 4,
     "metadata": {},
     "output_type": "execute_result"
    }
   ],
   "source": [
    "# Importando arquivos\n",
    "df = pd.read_csv('09171644-2019-violencia-contra-a-mulher-alteracao-21-02-2020.csv', sep =';', encoding ='cp1252')\n",
    "df.head()"
   ]
  },
  {
   "cell_type": "code",
   "execution_count": 5,
   "metadata": {},
   "outputs": [],
   "source": [
    "# Tirando os valores null;NAN\n",
    "df.dropna(subset =['AMEAÇA'], inplace=True)"
   ]
  },
  {
   "cell_type": "code",
   "execution_count": 6,
   "metadata": {},
   "outputs": [
    {
     "data": {
      "image/png": "[encoded data removed]",
      "text/plain": [
       "<Figure size 1080x720 with 1 Axes>"
      ]
     },
     "metadata": {
      "needs_background": "light"
     },
     "output_type": "display_data"
    }
   ],
   "source": [
    "# Plotando gráfico\n",
    "df.plot.bar(figsize =(15,10))\n",
    "# Salvando a em arquivo PNG\n",
    "plt.savefig('grafico2019.png')"
   ]
  },
  {
   "cell_type": "code",
   "execution_count": null,
   "metadata": {},
   "outputs": [],
   "source": []
  }
 ],
 "metadata": {
  "kernelspec": {
   "display_name": "Python 3",
   "language": "python",
   "name": "python3"
  },
  "language_info": {
   "codemirror_mode": {
    "name": "ipython",
    "version": 3
   },
   "file_extension": ".py",
   "mimetype": "text/x-python",
   "name": "python",
   "nbconvert_exporter": "python",
   "pygments_lexer": "ipython3",
   "version": "3.7.6"
  }
 },
 "nbformat": 4,
 "nbformat_minor": 4
}
